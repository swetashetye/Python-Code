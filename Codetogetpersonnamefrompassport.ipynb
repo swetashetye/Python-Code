{
 "cells": [
  {
   "cell_type": "code",
   "execution_count": null,
   "metadata": {},
   "outputs": [],
   "source": [
    "from PIL import Image\n",
    "import pytesseract\n",
    "import re\n",
    "\n",
    "def extract_name_from_id_card(image):\n",
    "    try:\n",
    "        image = Image.open(image)\n",
    "        ocr_text = pytesseract.image_to_string(image).lower().replace(\" \", \"\")\n",
    "        name_pattern = re.compile(r\"p<([^<]+)<<([^<]+)<\")\n",
    "        matches = name_pattern.findall(ocr_text)\n",
    "        if len(matches) == 1:\n",
    "            return matches[0][::-1]\n",
    "        else:\n",
    "            words = ocr_text.split()\n",
    "            possible_names = [\n",
    "                word for word in words if len(word) > 3 and word.isalpha()\n",
    "            ]\n",
    "            return possible_names[:2]\n",
    "    except Exception as e:\n",
    "        return None"
   ]
  },
  {
   "cell_type": "code",
   "execution_count": null,
   "metadata": {},
   "outputs": [],
   "source": []
  },
  {
   "cell_type": "code",
   "execution_count": null,
   "metadata": {},
   "outputs": [],
   "source": []
  },
  {
   "cell_type": "code",
   "execution_count": null,
   "metadata": {},
   "outputs": [],
   "source": []
  },
  {
   "cell_type": "code",
   "execution_count": null,
   "metadata": {},
   "outputs": [],
   "source": []
  },
  {
   "cell_type": "code",
   "execution_count": null,
   "metadata": {},
   "outputs": [],
   "source": []
  },
  {
   "cell_type": "code",
   "execution_count": null,
   "metadata": {},
   "outputs": [],
   "source": []
  }
 ],
 "metadata": {
  "kernelspec": {
   "display_name": "Python 3 (ipykernel)",
   "language": "python",
   "name": "python3"
  },
  "language_info": {
   "codemirror_mode": {
    "name": "ipython",
    "version": 3
   },
   "file_extension": ".py",
   "mimetype": "text/x-python",
   "name": "python",
   "nbconvert_exporter": "python",
   "pygments_lexer": "ipython3",
   "version": "3.10.13"
  }
 },
 "nbformat": 4,
 "nbformat_minor": 4
}
